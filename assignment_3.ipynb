{
 "cells": [
  {
   "cell_type": "markdown",
   "id": "1a35b193-863c-4699-a257-1e1cf8c785de",
   "metadata": {},
   "source": [
    "Q.1 LAMBDA FUNCTION USE"
   ]
  },
  {
   "cell_type": "code",
   "execution_count": 8,
   "id": "e76a7dcf-e53d-44b4-ae1b-56c917e7f446",
   "metadata": {},
   "outputs": [],
   "source": [
    "data = [('Sachin Tendulkar', 34357), ('Ricky Ponting', 27483), ('Jack Kallis', 25534), ('Virat Kohli', 24936)]\n"
   ]
  },
  {
   "cell_type": "code",
   "execution_count": 22,
   "id": "aa63db23-38cc-490a-85f1-c20ab88c91e0",
   "metadata": {},
   "outputs": [
    {
     "name": "stdout",
     "output_type": "stream",
     "text": [
      "[('Virat Kohli', 24936), ('Jack Kallis', 25534), ('Ricky Ponting', 27483), ('Sachin Tendulkar', 34357)]\n"
     ]
    }
   ],
   "source": [
    "data.sort(key = lambda x : x[1])\n",
    "print(data)\n",
    "\n"
   ]
  },
  {
   "cell_type": "markdown",
   "id": "8c5b2d9b-56b9-4d3f-9f4f-30f13453c5c8",
   "metadata": {},
   "source": [
    "Q.2  squares of all the numbers in the given list of integers using\n",
    "lambda and map functions."
   ]
  },
  {
   "cell_type": "code",
   "execution_count": 23,
   "id": "e1e03425-8370-4892-bd99-14e2cb8fafa3",
   "metadata": {},
   "outputs": [],
   "source": [
    "number = [1, 2, 3, 4, 5, 6, 7, 8, 9, 10]"
   ]
  },
  {
   "cell_type": "code",
   "execution_count": 31,
   "id": "646d8cf7-fef6-4049-bcb4-437eecee8492",
   "metadata": {},
   "outputs": [
    {
     "name": "stdout",
     "output_type": "stream",
     "text": [
      "[1, 4, 9, 16, 25, 36, 49, 64, 81, 100]\n"
     ]
    }
   ],
   "source": [
    "square_number = list(map(lambda x: x**2,number))\n",
    "print(square_number)"
   ]
  },
  {
   "cell_type": "markdown",
   "id": "7b0e8dff-7797-4770-b49c-11dde36dc21a",
   "metadata": {},
   "source": [
    "Q.3 convert the given list of integers into a tuple of strings\n",
    "Given String: [1, 2, 3, 4, 5, 6, 7, 8, 9, 10]\n",
    "Expected output: ('1', '2', '3', '4', '5', '6', '7', '8', '9', '10')"
   ]
  },
  {
   "cell_type": "code",
   "execution_count": 2,
   "id": "ecb913a7-bf4a-4742-bcd2-bf36e311aa40",
   "metadata": {},
   "outputs": [],
   "source": [
    "my_list =  [1, 2, 3, 4, 5, 6, 7, 8, 9, 10]\n"
   ]
  },
  {
   "cell_type": "code",
   "execution_count": 3,
   "id": "36f3cbaa-706c-4ecd-a36c-6e318954a311",
   "metadata": {},
   "outputs": [
    {
     "data": {
      "text/plain": [
       "('1', '2', '3', '4', '5', '6', '7', '8', '9', '10')"
      ]
     },
     "execution_count": 3,
     "metadata": {},
     "output_type": "execute_result"
    }
   ],
   "source": [
    "tuple(map(lambda x: str(x),my_list))"
   ]
  },
  {
   "cell_type": "markdown",
   "id": "a6af2ae8-6abc-45fa-9653-aa0bdc710e4a",
   "metadata": {},
   "source": [
    "Q.4 using reduce function to compute the product of a list containing numbers from 1 to 25"
   ]
  },
  {
   "cell_type": "code",
   "execution_count": 11,
   "id": "ba616d6e-ffb8-433d-b413-e1bff61cd36c",
   "metadata": {},
   "outputs": [
    {
     "name": "stdout",
     "output_type": "stream",
     "text": [
      "product =  15511210043330985984000000\n"
     ]
    }
   ],
   "source": [
    "from functools import reduce\n",
    "\n",
    "\n",
    "number =  list(range(1,26))\n",
    "\n",
    "product = reduce(lambda x,y: x*y,number )\n",
    "print(\"product = \",  product)"
   ]
  },
  {
   "cell_type": "code",
   "execution_count": null,
   "id": "80e38503-8ade-4609-b019-1889c96cc72a",
   "metadata": {},
   "outputs": [],
   "source": [
    "Q.5 filter the numbers in a given list that are divisible by 2 and 3 using the\n",
    "filter function."
   ]
  },
  {
   "cell_type": "code",
   "execution_count": 15,
   "id": "e2b07a46-5f26-4179-ae2d-ca06d5c583e8",
   "metadata": {},
   "outputs": [
    {
     "name": "stdout",
     "output_type": "stream",
     "text": [
      "Original_list [2, 3, 6, 9, 27, 60, 90, 120, 55, 46]\n",
      "filter_list [6, 60, 90, 120]\n"
     ]
    }
   ],
   "source": [
    "number = [2, 3, 6, 9, 27, 60, 90, 120, 55, 46]\n",
    "\n",
    "\n",
    "filter_list = list(filter(lambda x : x % 2 == 0 and  x%3 == 0,number ))\n",
    "print(\"Original_list\", number)\n",
    "print(\"filter_list\", filter_list)"
   ]
  },
  {
   "cell_type": "markdown",
   "id": "b8bb7f54-9240-41e0-beae-37382292e08e",
   "metadata": {},
   "source": [
    "Q.6  find palindromes in the given list of strings using lambda and filter\n",
    "function."
   ]
  },
  {
   "cell_type": "code",
   "execution_count": 4,
   "id": "e22e022b-5623-47e2-9436-adb1e74cada3",
   "metadata": {},
   "outputs": [
    {
     "name": "stdout",
     "output_type": "stream",
     "text": [
      "['php', 'aba', 'radar', 'level']\n"
     ]
    }
   ],
   "source": [
    "palindromes = ['python', 'php', 'aba', 'radar', 'level']\n",
    "\n",
    "palindrome_string = list(filter(lambda word: word == word[::-1],palindromes))\n",
    "\n",
    "\n",
    "print(palindrome_string)\n",
    "\n"
   ]
  },
  {
   "cell_type": "code",
   "execution_count": 1,
   "id": "3f3a7a88-34cd-4b8a-9d13-4425a3497d20",
   "metadata": {},
   "outputs": [
    {
     "name": "stdout",
     "output_type": "stream",
     "text": [
      "['php', 'aba', 'radar', 'level']\n"
     ]
    }
   ],
   "source": [
    "def test(a):\n",
    "    return a==a[::-1]\n",
    "palindromes = ['python', 'php', 'aba', 'radar', 'level']\n",
    "\n",
    "palindrome_string = list(filter(test,palindromes))\n",
    "\n",
    "\n",
    "print(palindrome_string)\n",
    "\n"
   ]
  }
 ],
 "metadata": {
  "kernelspec": {
   "display_name": "Python 3 (ipykernel)",
   "language": "python",
   "name": "python3"
  },
  "language_info": {
   "codemirror_mode": {
    "name": "ipython",
    "version": 3
   },
   "file_extension": ".py",
   "mimetype": "text/x-python",
   "name": "python",
   "nbconvert_exporter": "python",
   "pygments_lexer": "ipython3",
   "version": "3.10.8"
  }
 },
 "nbformat": 4,
 "nbformat_minor": 5
}
